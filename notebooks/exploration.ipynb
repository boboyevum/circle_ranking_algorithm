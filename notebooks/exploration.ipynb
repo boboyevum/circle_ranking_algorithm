{
 "cells": [
  {
   "cell_type": "code",
   "execution_count": 1,
   "id": "afe752bc",
   "metadata": {},
   "outputs": [],
   "source": [
    "import pandas as pd\n",
    "import numpy as np\n",
    "\n",
    "import matplotlib.pyplot as plt\n",
    "import seaborn as sns"
   ]
  },
  {
   "cell_type": "code",
   "execution_count": 2,
   "id": "ea2c118a",
   "metadata": {},
   "outputs": [
    {
     "data": {
      "text/html": [
       "<div>\n",
       "<style scoped>\n",
       "    .dataframe tbody tr th:only-of-type {\n",
       "        vertical-align: middle;\n",
       "    }\n",
       "\n",
       "    .dataframe tbody tr th {\n",
       "        vertical-align: top;\n",
       "    }\n",
       "\n",
       "    .dataframe thead th {\n",
       "        text-align: right;\n",
       "    }\n",
       "</style>\n",
       "<table border=\"1\" class=\"dataframe\">\n",
       "  <thead>\n",
       "    <tr style=\"text-align: right;\">\n",
       "      <th></th>\n",
       "      <th>id</th>\n",
       "      <th>status</th>\n",
       "      <th>name</th>\n",
       "      <th>published_at</th>\n",
       "      <th>created_at</th>\n",
       "      <th>updated_at</th>\n",
       "      <th>url</th>\n",
       "      <th>body</th>\n",
       "      <th>record_type</th>\n",
       "      <th>space_id</th>\n",
       "      <th>space_name</th>\n",
       "      <th>community_id</th>\n",
       "      <th>user_id</th>\n",
       "      <th>user_name</th>\n",
       "      <th>user_email</th>\n",
       "      <th>likes_count</th>\n",
       "      <th>comments_count</th>\n",
       "    </tr>\n",
       "  </thead>\n",
       "  <tbody>\n",
       "    <tr>\n",
       "      <th>0</th>\n",
       "      <td>23426719</td>\n",
       "      <td>published</td>\n",
       "      <td>Relative URL</td>\n",
       "      <td>2025-07-22 19:50:41.946000+00:00</td>\n",
       "      <td>2025-07-22 19:50:41.946000+00:00</td>\n",
       "      <td>2025-07-22 19:59:57.892000+00:00</td>\n",
       "      <td>https://community.circle.so/c/feature-requests...</td>\n",
       "      <td>&lt;div&gt;&lt;p&gt;Can we use relative URLs for the navig...</td>\n",
       "      <td>Post</td>\n",
       "      <td>572931</td>\n",
       "      <td>Feature requests</td>\n",
       "      <td>4</td>\n",
       "      <td>19598883</td>\n",
       "      <td>Andrew Montz</td>\n",
       "      <td>andrew@revstacker.com</td>\n",
       "      <td>0</td>\n",
       "      <td>0</td>\n",
       "    </tr>\n",
       "    <tr>\n",
       "      <th>1</th>\n",
       "      <td>23426105</td>\n",
       "      <td>published</td>\n",
       "      <td>None</td>\n",
       "      <td>2025-07-22 19:32:45.441000+00:00</td>\n",
       "      <td>2025-07-22 19:32:45.441000+00:00</td>\n",
       "      <td>2025-07-22 19:50:56.083000+00:00</td>\n",
       "      <td>https://community.circle.so/c/introductions/hi...</td>\n",
       "      <td>&lt;div&gt;&lt;p&gt;👋 Hi everyone, I’m Liz Covart!&lt;/p&gt;&lt;p&gt;I...</td>\n",
       "      <td>Post</td>\n",
       "      <td>1043</td>\n",
       "      <td>Say hello</td>\n",
       "      <td>4</td>\n",
       "      <td>32537180</td>\n",
       "      <td>Liz Covart</td>\n",
       "      <td>liz@benfranklinsworld.com</td>\n",
       "      <td>3</td>\n",
       "      <td>2</td>\n",
       "    </tr>\n",
       "    <tr>\n",
       "      <th>2</th>\n",
       "      <td>23425892</td>\n",
       "      <td>published</td>\n",
       "      <td>Choosing between root domain and subdomain for...</td>\n",
       "      <td>2025-07-22 19:26:59.293000+00:00</td>\n",
       "      <td>2025-07-22 19:26:59.293000+00:00</td>\n",
       "      <td>2025-07-22 19:27:15.635000+00:00</td>\n",
       "      <td>https://community.circle.so/c/ask-the-communit...</td>\n",
       "      <td>&lt;div&gt;&lt;p&gt;Hello &lt;a class=\"mention\" href=\"https:/...</td>\n",
       "      <td>Post</td>\n",
       "      <td>825</td>\n",
       "      <td>Ask the community</td>\n",
       "      <td>4</td>\n",
       "      <td>13107997</td>\n",
       "      <td>James Brown</td>\n",
       "      <td>james@vedicpathmeditation.com</td>\n",
       "      <td>1</td>\n",
       "      <td>0</td>\n",
       "    </tr>\n",
       "    <tr>\n",
       "      <th>3</th>\n",
       "      <td>23424438</td>\n",
       "      <td>published</td>\n",
       "      <td>How to recover original admin account after re...</td>\n",
       "      <td>2025-07-22 18:45:59.678000+00:00</td>\n",
       "      <td>2025-07-22 18:45:59.678000+00:00</td>\n",
       "      <td>2025-07-22 19:02:08.604000+00:00</td>\n",
       "      <td>https://community.circle.so/c/ask-the-communit...</td>\n",
       "      <td>&lt;div&gt;&lt;p&gt;I gave a user an admin account and she...</td>\n",
       "      <td>Post</td>\n",
       "      <td>825</td>\n",
       "      <td>Ask the community</td>\n",
       "      <td>4</td>\n",
       "      <td>30507857</td>\n",
       "      <td>Joy Feddes</td>\n",
       "      <td>joy@planacademy.com</td>\n",
       "      <td>0</td>\n",
       "      <td>1</td>\n",
       "    </tr>\n",
       "    <tr>\n",
       "      <th>4</th>\n",
       "      <td>23417706</td>\n",
       "      <td>published</td>\n",
       "      <td>Would love: Moderation on space by space setting</td>\n",
       "      <td>2025-07-22 15:31:04.228000+00:00</td>\n",
       "      <td>2025-07-22 15:31:04.228000+00:00</td>\n",
       "      <td>2025-07-22 16:53:41.331000+00:00</td>\n",
       "      <td>https://community.circle.so/c/feature-requests...</td>\n",
       "      <td>&lt;div&gt;&lt;p&gt;Our business use case: we offer a comm...</td>\n",
       "      <td>Post</td>\n",
       "      <td>572931</td>\n",
       "      <td>Feature requests</td>\n",
       "      <td>4</td>\n",
       "      <td>21811624</td>\n",
       "      <td>Daniel Linstedt</td>\n",
       "      <td>danl@datavaultalliance.com</td>\n",
       "      <td>1</td>\n",
       "      <td>3</td>\n",
       "    </tr>\n",
       "  </tbody>\n",
       "</table>\n",
       "</div>"
      ],
      "text/plain": [
       "         id     status                                               name  \\\n",
       "0  23426719  published                                       Relative URL   \n",
       "1  23426105  published                                               None   \n",
       "2  23425892  published  Choosing between root domain and subdomain for...   \n",
       "3  23424438  published  How to recover original admin account after re...   \n",
       "4  23417706  published   Would love: Moderation on space by space setting   \n",
       "\n",
       "                      published_at                       created_at  \\\n",
       "0 2025-07-22 19:50:41.946000+00:00 2025-07-22 19:50:41.946000+00:00   \n",
       "1 2025-07-22 19:32:45.441000+00:00 2025-07-22 19:32:45.441000+00:00   \n",
       "2 2025-07-22 19:26:59.293000+00:00 2025-07-22 19:26:59.293000+00:00   \n",
       "3 2025-07-22 18:45:59.678000+00:00 2025-07-22 18:45:59.678000+00:00   \n",
       "4 2025-07-22 15:31:04.228000+00:00 2025-07-22 15:31:04.228000+00:00   \n",
       "\n",
       "                        updated_at  \\\n",
       "0 2025-07-22 19:59:57.892000+00:00   \n",
       "1 2025-07-22 19:50:56.083000+00:00   \n",
       "2 2025-07-22 19:27:15.635000+00:00   \n",
       "3 2025-07-22 19:02:08.604000+00:00   \n",
       "4 2025-07-22 16:53:41.331000+00:00   \n",
       "\n",
       "                                                 url  \\\n",
       "0  https://community.circle.so/c/feature-requests...   \n",
       "1  https://community.circle.so/c/introductions/hi...   \n",
       "2  https://community.circle.so/c/ask-the-communit...   \n",
       "3  https://community.circle.so/c/ask-the-communit...   \n",
       "4  https://community.circle.so/c/feature-requests...   \n",
       "\n",
       "                                                body record_type  space_id  \\\n",
       "0  <div><p>Can we use relative URLs for the navig...        Post    572931   \n",
       "1  <div><p>👋 Hi everyone, I’m Liz Covart!</p><p>I...        Post      1043   \n",
       "2  <div><p>Hello <a class=\"mention\" href=\"https:/...        Post       825   \n",
       "3  <div><p>I gave a user an admin account and she...        Post       825   \n",
       "4  <div><p>Our business use case: we offer a comm...        Post    572931   \n",
       "\n",
       "          space_name  community_id   user_id        user_name  \\\n",
       "0   Feature requests             4  19598883     Andrew Montz   \n",
       "1          Say hello             4  32537180       Liz Covart   \n",
       "2  Ask the community             4  13107997      James Brown   \n",
       "3  Ask the community             4  30507857       Joy Feddes   \n",
       "4   Feature requests             4  21811624  Daniel Linstedt   \n",
       "\n",
       "                      user_email  likes_count  comments_count  \n",
       "0          andrew@revstacker.com            0               0  \n",
       "1      liz@benfranklinsworld.com            3               2  \n",
       "2  james@vedicpathmeditation.com            1               0  \n",
       "3            joy@planacademy.com            0               1  \n",
       "4     danl@datavaultalliance.com            1               3  "
      ]
     },
     "execution_count": 2,
     "metadata": {},
     "output_type": "execute_result"
    }
   ],
   "source": [
    "df = pd.read_json(\"../data/processed/posts_clean.json\")\n",
    "df.head()"
   ]
  },
  {
   "cell_type": "code",
   "execution_count": 3,
   "id": "b9e95767",
   "metadata": {},
   "outputs": [
    {
     "data": {
      "text/plain": [
       "id                   0\n",
       "status               0\n",
       "name              2332\n",
       "published_at         0\n",
       "created_at           0\n",
       "updated_at           0\n",
       "url                  0\n",
       "body               105\n",
       "record_type          0\n",
       "space_id             0\n",
       "space_name           0\n",
       "community_id         0\n",
       "user_id              0\n",
       "user_name            0\n",
       "user_email           0\n",
       "likes_count          0\n",
       "comments_count       0\n",
       "dtype: int64"
      ]
     },
     "execution_count": 3,
     "metadata": {},
     "output_type": "execute_result"
    }
   ],
   "source": [
    "df.isnull().sum()"
   ]
  },
  {
   "cell_type": "code",
   "execution_count": 5,
   "id": "c593d5d8",
   "metadata": {},
   "outputs": [
    {
     "name": "stderr",
     "output_type": "stream",
     "text": [
      "/var/folders/53/6bk9szg91vg4209h0xj26_500000gp/T/ipykernel_90082/3364761847.py:3: FutureWarning: \n",
      "\n",
      "Passing `palette` without assigning `hue` is deprecated and will be removed in v0.14.0. Assign the `y` variable to `hue` and set `legend=False` for the same effect.\n",
      "\n",
      "  sns.barplot(x = space_counts.values, y = space_counts.index, palette = \"viridis\")\n"
     ]
    },
    {
     "data": {
      "image/png": "[encoded data removed]",
      "text/plain": [
       "<Figure size 640x480 with 1 Axes>"
      ]
     },
     "metadata": {},
     "output_type": "display_data"
    }
   ],
   "source": [
    "space_counts = df['space_name'].value_counts()[:15]\n",
    "\n",
    "sns.barplot(x = space_counts.values, y = space_counts.index, palette = \"viridis\")\n",
    "plt.tight_layout()\n",
    "plt.show()"
   ]
  },
  {
   "cell_type": "code",
   "execution_count": 7,
   "id": "bbc0135d",
   "metadata": {},
   "outputs": [
    {
     "data": {
      "text/plain": [
       "record_type\n",
       "Post    24109\n",
       "Name: count, dtype: int64"
      ]
     },
     "execution_count": 7,
     "metadata": {},
     "output_type": "execute_result"
    }
   ],
   "source": [
    "df['record_type'].value_counts()"
   ]
  },
  {
   "cell_type": "code",
   "execution_count": 8,
   "id": "0c6b4b8c",
   "metadata": {},
   "outputs": [
    {
     "data": {
      "text/plain": [
       "community_id\n",
       "4    24109\n",
       "Name: count, dtype: int64"
      ]
     },
     "execution_count": 8,
     "metadata": {},
     "output_type": "execute_result"
    }
   ],
   "source": [
    "df['community_id'].value_counts()"
   ]
  },
  {
   "cell_type": "code",
   "execution_count": 9,
   "id": "8e909e8b",
   "metadata": {},
   "outputs": [
    {
     "data": {
      "text/plain": [
       "status\n",
       "published    24109\n",
       "Name: count, dtype: int64"
      ]
     },
     "execution_count": 9,
     "metadata": {},
     "output_type": "execute_result"
    }
   ],
   "source": [
    "df['status'].value_counts()"
   ]
  },
  {
   "cell_type": "code",
   "execution_count": 13,
   "id": "c3e79d4d",
   "metadata": {},
   "outputs": [
    {
     "name": "stdout",
     "output_type": "stream",
     "text": [
      "Number of unique users: 6841 posting in Circle community.\n"
     ]
    }
   ],
   "source": [
    "num_unique_users = df[\"user_id\"].nunique()\n",
    "print(f\"Number of unique users: {num_unique_users} posting in Circle community.\")"
   ]
  },
  {
   "cell_type": "code",
   "execution_count": 18,
   "id": "ffa18285",
   "metadata": {},
   "outputs": [
    {
     "data": {
      "image/png": "[encoded data removed]",
      "text/plain": [
       "<Figure size 640x480 with 2 Axes>"
      ]
     },
     "metadata": {},
     "output_type": "display_data"
    }
   ],
   "source": [
    "fig, axes = plt.subplots(1, 2)\n",
    "\n",
    "sns.histplot(df[\"likes_count\"], bins = 30, ax = axes[0])\n",
    "axes[0].set_xlabel(\"Likes Count\")\n",
    "\n",
    "sns.histplot(df[\"comments_count\"], bins = 30, ax = axes[1])\n",
    "axes[1].set_xlabel(\"Comments Count\")\n",
    "\n",
    "plt.tight_layout()\n",
    "plt.show()"
   ]
  },
  {
   "cell_type": "code",
   "execution_count": null,
   "id": "6f316efc",
   "metadata": {},
   "outputs": [],
   "source": []
  }
 ],
 "metadata": {
  "kernelspec": {
   "display_name": "Python 3",
   "language": "python",
   "name": "python3"
  },
  "language_info": {
   "codemirror_mode": {
    "name": "ipython",
    "version": 3
   },
   "file_extension": ".py",
   "mimetype": "text/x-python",
   "name": "python",
   "nbconvert_exporter": "python",
   "pygments_lexer": "ipython3",
   "version": "3.10.4"
  }
 },
 "nbformat": 4,
 "nbformat_minor": 5
}
